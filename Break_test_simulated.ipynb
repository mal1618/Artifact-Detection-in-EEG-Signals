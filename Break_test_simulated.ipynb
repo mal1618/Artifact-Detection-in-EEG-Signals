{
 "cells": [
  {
   "cell_type": "code",
   "execution_count": 1,
   "id": "28e08036-e918-4ebb-9792-010320c50ed6",
   "metadata": {},
   "outputs": [],
   "source": [
    "import mne, glob\n",
    "import mne.io\n",
    "from scipy.io import loadmat\n",
    "import h5py\n",
    "import pandas as pd\n",
    "import pymatreader\n",
    "import timeit\n",
    "import numpy as np\n",
    "import matplotlib.pyplot as plt\n",
    "#mne.sys_info()\n",
    "from copy import deepcopy\n",
    "import os\n",
    "# import our functions\n",
    "from mne_methods import *\n",
    "from mne.preprocessing import (ICA, corrmap, create_ecg_epochs, \n",
    "                               create_eog_epochs)"
   ]
  },
  {
   "cell_type": "markdown",
   "id": "8cd74cbf-f4de-4de7-a45e-373d86c0bb01",
   "metadata": {
    "tags": []
   },
   "source": [
    "## Data sets"
   ]
  },
  {
   "cell_type": "code",
   "execution_count": 2,
   "id": "daea71f3-2182-4c39-a08d-278d8138ad34",
   "metadata": {},
   "outputs": [],
   "source": [
    "sim_break_test_data = [[r'EEG_manual_100-25cha_0noise_1000', 10, [[] for x in range(6)], [], [\"Na\"]],\n",
    "                       [r'EEG_manual_100-25cha_1noise_1000', 10, [['ELA'] for x in range(6)], ['ELA'], [\"Na\"]],\n",
    "                       [r'EEG_manual_100-25cha_2noise_1000', 10, [['ELA','ELB'] for x in range(6)], ['ELA','ELB'], [\"Na\"]],\n",
    "                       [r'EEG_manual_100-25cha_3noise_1000', 10, [['ELA','ELB','ELC'] for x in range(6)], ['ELA','ELB','ELC'], [\"Na\"]],\n",
    "                       [r'EEG_manual_100-25cha_4noise_1000', 10, [['ELA','ELB','ELC','ELT'] for x in range(6)], ['ELA','ELB','ELC','ELT'], [\"Na\"]],\n",
    "                       [r'EEG_manual_100-25cha_5noise_1000', 10, [['ELA','ELB','ELC','ELT','ELE'] for x in range(6)], ['ELA','ELB','ELC','ELT','ELE'], [\"Na\"]],\n",
    "                       [r'EEG_manual_100-25cha_6noise_1000', 10, [['ELA','ELB','ELC','ELT','ELE','ELI'] for x in range(6)], ['ELA','ELB','ELC','ELT','ELE','ELI'], [\"Na\"]],\n",
    "                       [r'EEG_manual_100-25cha_7noise_1000', 10, [['ELA','ELB','ELC','ELT','ELE','ELI','ERA'] for x in range(6)], ['ELA','ELB','ELC','ELT','ELE','ELI','ERA'], [\"Na\"]],\n",
    "                       [r'EEG_manual_100-25cha_8noise_1000', 10, [['ELA','ELB','ELC','ELT','ELE','ELI','ERA','ERB'] for x in range(6)], ['ELA','ELB','ELC','ELT','ELE','ELI','ERA','ERB'], [\"Na\"]],\n",
    "                       [r'EEG_manual_100-25cha_9noise_1000', 10, [['ELA','ELB','ELC','ELT','ELE','ELI','ERA','ERB','ERC'] for x in range(6)], ['ELA','ELB','ELC','ELT','ELE','ELI','ERA','ERB','ERC'], [\"Na\"]],\n",
    "                       [r'EEG_manual_100-25cha_10noise_1000', 10, [['ELA','ELB','ELC','ELT','ELE','ELI','ERA','ERB','ERC','ERT'] for x in range(6)], ['ELA','ELB','ELC','ELT','ELE','ELI','ERA','ERB','ERC','ERT'], [\"Na\"]],\n",
    "                       [r'EEG_manual_100-25cha_11noise_1000', 10, [['ELA','ELB','ELC','ELT','ELE','ELI','ERA','ERB','ERC','ERT','ERE'] for x in range(6)], ['ELA','ELB','ELC','ELT','ELE','ELI','ERA','ERB','ERC','ERT','ERE'], [\"Na\"]],\n",
    "                       [r'EEG_manual_100-25cha_12noise_1000', 10, [['ELA','ELB','ELC','ELT','ELE','ELI','ERA','ERB','ERC','ERT','ERE','ERI'] for x in range(6)], ['ELA','ELB','ELC','ELT','ELE','ELI','ERA','ERB','ERC','ERT','ERE','ERI'], [\"Na\"]],\n",
    "                       [r'EEG_manual_100-25cha_13noise_1000', 10, [['ELA','ELB','ELC','ELT','ELE','ELI','ERA','ERB','ERC','ERT','ERE','ERI','EOGr'] for x in range(6)], ['ELA','ELB','ELC','ELT','ELE','ELI','ERA','ERB','ERC','ERT','ERE','ERI','EOGr'], [\"Na\"]],\n",
    "                       [r'EEG_manual_100-25cha_14noise_1000', 10, [['ELA','ELB','ELC','ELT','ELE','ELI','ERA','ERB','ERC','ERT','ERE','ERI','EOGr','EOGl'] for x in range(6)], ['ELA','ELB','ELC','ELT','ELE','ELI','ERA','ERB','ERC','ERT','ERE','ERI','EOGr','EOGl'], [\"Na\"]],\n",
    "                       [r'EEG_manual_100-25cha_15noise_1000', 10, [['ELA','ELB','ELC','ELT','ELE','ELI','ERA','ERB','ERC','ERT','ERE','ERI','EOGr','EOGl','EMGl'] for x in range(6)], ['ELA','ELB','ELC','ELT','ELE','ELI','ERA','ERB','ERC','ERT','ERE','ERI','EOGr','EOGl','EMGl'], [\"Na\"]]]"
   ]
  },
  {
   "cell_type": "code",
   "execution_count": 3,
   "id": "69969357-3a33-4979-b20e-40985b6b0434",
   "metadata": {},
   "outputs": [
    {
     "name": "stdout",
     "output_type": "stream",
     "text": [
      "16\n"
     ]
    }
   ],
   "source": [
    "print(len(sim_break_test_data))"
   ]
  },
  {
   "cell_type": "markdown",
   "id": "8983ea2f-5845-4fe1-8bd0-0e878c2d3879",
   "metadata": {
    "jp-MarkdownHeadingCollapsed": true,
    "tags": []
   },
   "source": [
    "## Helper functions"
   ]
  },
  {
   "cell_type": "code",
   "execution_count": 4,
   "id": "11505f8b-83e6-44d0-ba2a-0b07e6021541",
   "metadata": {},
   "outputs": [],
   "source": [
    "def check_file_exists(data_set, simulation):\n",
    "    if simulation:\n",
    "        local_folder = r\"D:\\Bachelor-Project-Data\\Manual_data_28_05_2023\"\n",
    "    else:\n",
    "        local_folder = r\"D:\\Bachelor-Project-Data\\Kaare\\study_1A_mat_simple\"\n",
    "    \n",
    "    for data in data_set:\n",
    "        folder_path = local_folder + \"\\ \"[:-1] + data[0]\n",
    "        \n",
    "        if not os.path.isfile(folder_path + \".mat\"):\n",
    "            print(folder_path)"
   ]
  },
  {
   "cell_type": "code",
   "execution_count": 5,
   "id": "108abd6e-4391-4aea-a039-28ecdc997588",
   "metadata": {},
   "outputs": [],
   "source": [
    "check_file_exists(sim_break_test_data, True)"
   ]
  },
  {
   "cell_type": "code",
   "execution_count": 6,
   "id": "319ca3c8-90d7-46f2-8527-7a62e5bc2768",
   "metadata": {},
   "outputs": [],
   "source": [
    "def count_types(data_set):\n",
    "    catogory_dictonary = {}\n",
    "    \n",
    "    # Runs through each data point in the data set\n",
    "    for data_point in range(len(data_set)):\n",
    "        \n",
    "        #Runs through each category type:\n",
    "        for category_type in data_set[data_point][4]:\n",
    "            if category_type in catogory_dictonary.keys():\n",
    "                # Add 1 to the type\n",
    "                catogory_dictonary.update({category_type: catogory_dictonary.get(category_type) + 1})\n",
    "            else:\n",
    "                # Add a new type to the dictonary\n",
    "                catogory_dictonary.update({category_type: 1})\n",
    "    return catogory_dictonary"
   ]
  },
  {
   "cell_type": "code",
   "execution_count": 7,
   "id": "47f71b2c-72bd-418b-aa40-10a8f6590fd5",
   "metadata": {},
   "outputs": [
    {
     "data": {
      "text/plain": [
       "{'Na': 16}"
      ]
     },
     "execution_count": 7,
     "metadata": {},
     "output_type": "execute_result"
    }
   ],
   "source": [
    "count_types(sim_break_test_data)"
   ]
  },
  {
   "cell_type": "markdown",
   "id": "0eee7da0-0470-44c1-bf2e-40b02deedcd6",
   "metadata": {
    "jp-MarkdownHeadingCollapsed": true,
    "tags": []
   },
   "source": [
    "## Optimisation Broken Electrode classifier"
   ]
  },
  {
   "cell_type": "code",
   "execution_count": 8,
   "id": "35bcbdc6-9456-4ac9-805a-1b1acae21058",
   "metadata": {},
   "outputs": [],
   "source": [
    "def optimise_set(data_set, simulation, parameters):\n",
    "    # Empty list to the output.\n",
    "    outputs = [] \n",
    "    \n",
    "    start_cont = timeit.default_timer() # starts timer\n",
    "    for data in data_set:\n",
    "        #Running through every data point\n",
    "        start = timeit.default_timer() # starts timer\n",
    "        \n",
    "        # Extracting the information of the data.\n",
    "        if simulation:\n",
    "            local_folder = r\"D:\\Bachelor-Project-Data\\Manual_data_28_05_2023\"\n",
    "        else:\n",
    "            local_folder = r\"D:\\Bachelor-Project-Data\\Kaare\\study_1A_mat_simple\"\n",
    "        folder_path = local_folder + \"\\ \"[:-1] + data[0] #S_17/night_1\\EEG_raw\n",
    "        time_start = data[1]\n",
    "        artifact_labels = data[2]\n",
    "        broken_labels = data[3]\n",
    "        \n",
    "        # Loading the full data.\n",
    "        raw_all = load_mne.file_to_raw(folder_path + \".mat\")\n",
    "        \n",
    "        # Cropping it to the 60 seconds + buffer interval.\n",
    "        raw_all = raw_all.crop(tmin=time_start - 4, tmax = time_start + 64)\n",
    "        \n",
    "        if simulation:\n",
    "            #No preprocess\n",
    "            raw_all_processed = raw_all.crop(tmin=4, tmax=64)\n",
    "\n",
    "        else:\n",
    "            # Preprocess\n",
    "            raw_all_processed, NaN = load_mne.preprocess(raw_all)\n",
    "            # Remove bufer interval.\n",
    "            raw_all_processed = raw_all_processed.crop(tmin=4, tmax=64)\n",
    "        \n",
    "        # Prepares to loop through intervals.\n",
    "        intv_count = 6\n",
    "        intv_size = 10\n",
    "        intv_end = intv_count * intv_size + 1 #Etc. 6*10 + 1\n",
    "        time_intv = [x for x in range(0, intv_end, intv_size)]\n",
    "        \n",
    "        # ICA on intervals\n",
    "        for intv_idx in range(intv_count):\n",
    "            # Running through each interval\n",
    "            folder_int = folder_path + \"_time=\" + str(time_start + time_intv[intv_idx]) + \"-\" + str(time_start +time_intv[intv_idx + 1])\n",
    "            \n",
    "            # Cropping to the interval to perform multiple functions [0, 10], [10, 20] etc.\n",
    "            raw_crop_int = raw_all_processed.copy().crop(tmin = time_intv[intv_idx], tmax = time_intv[intv_idx + 1])\n",
    "            \n",
    "            # Runs multiple ICA for 2 - 15 number of components, both measures and matrices are used.\n",
    "            ICA_subfunctions.multiple_ica(raw_crop_int, 2, 15, folder_int, matrix=parameters[1], cross_measure=parameters[0])\n",
    "            \n",
    "            # Runs multi_plot to get a summary of all 2 - 15 components.\n",
    "            if type(parameters[1]) is not list and type(parameters[0]) is not list:\n",
    "                ICA_subfunctions.multi_plot(2, 15, folder_int, matrix_list=[parameters[1]], cross_measure=[parameters[0]])\n",
    "            else:\n",
    "                ICA_subfunctions.multi_plot(2, 15, folder_int, matrix_list=parameters[1], cross_measure=parameters[0])\n",
    "        \n",
    "        if type(parameters[3]) is not list and type(parameters[2]) is not list and type(parameters[1]) is not list and type(parameters[0]) is not list:\n",
    "            # Running the artifact classifier with relative procent on each ICA interval\n",
    "            artifact_intervals = []\n",
    "            for intv_idx in range(intv_count):\n",
    "                folder_int = folder_path + \"_time=\" + str(time_start + time_intv[intv_idx]) + \"-\" + str(time_start +time_intv[intv_idx + 1])\n",
    "                artifact_intervals.append(ICA_subfunctions.artifact_classifier(folder_int, parameters[2], cross=parameters[0], matrix=parameters[1]))\n",
    "\n",
    "            # Running the broken electrode classifier with number of 10 s. intervals in row.\n",
    "            broken_pred = ICA_subfunctions.broken_channel_classifier(artifact_intervals, broken_interval_size = parameters[3])\n",
    "\n",
    "            # Output the predictions for the combination of parameters.\n",
    "            outputs.append([data[0], time_start, parameters[0], parameters[1], parameters[2], parameters[3], artifact_intervals, broken_pred])\n",
    "        else:\n",
    "            # Artifact classifier\n",
    "            for art_int in parameters[3]:\n",
    "                for rel_pro in parameters[2]:\n",
    "                    for matrix in parameters[1]:\n",
    "                        for cross in parameters[0]:\n",
    "                            # Running the artifact classifier with relative procent on each ICA interval\n",
    "                            artifact_intervals = []\n",
    "                            for intv_idx in range(intv_count):\n",
    "                                folder_int = folder_path + \"_time=\" + str(time_start + time_intv[intv_idx]) + \"-\" + str(time_start +time_intv[intv_idx + 1])\n",
    "                                artifact_intervals.append(ICA_subfunctions.artifact_classifier(folder_int, rel_pro, cross=cross, matrix=matrix))\n",
    "\n",
    "                            # Running the broken electrode classifier with number of 10 s. intervals in row.\n",
    "                            broken_pred = ICA_subfunctions.broken_channel_classifier(artifact_intervals, broken_interval_size = art_int)\n",
    "\n",
    "                            # Output the predictions for the combination of parameters.\n",
    "                            outputs.append([data[0], time_start, cross, matrix, rel_pro, art_int, artifact_intervals, broken_pred])\n",
    "        \n",
    "        # ends timer\n",
    "        stop = timeit.default_timer() \n",
    "        total_time = (stop - start_cont)/60\n",
    "        time_estimated = (stop - start)*len(data_set)/60\n",
    "        print(str(total_time)[:4] + \"min. Estimated time left with this speed: \" + str(time_estimated - total_time)[:4] + \"min.\")\n",
    "    return outputs"
   ]
  },
  {
   "cell_type": "markdown",
   "id": "c8250bf8-95ce-48c9-86eb-15471624b5d6",
   "metadata": {
    "tags": []
   },
   "source": [
    "## Accuracies"
   ]
  },
  {
   "cell_type": "markdown",
   "id": "2a91a87a-d895-4fac-a611-3c47c7a99300",
   "metadata": {},
   "source": [
    "$$\n",
    "\\text{ } \\\\\n",
    "Accuracy = \\frac{\\text{Number of correct predictions}}{\\text{Total number of predictions}} = \\frac{TP + TN}{TP + TN + FP + FN}\\\\\n",
    "$$"
   ]
  },
  {
   "cell_type": "code",
   "execution_count": 9,
   "id": "67a408c8-c933-4080-8584-8dc0576d5721",
   "metadata": {},
   "outputs": [],
   "source": [
    "def binary_broken_electrode_accuracy(y_preds, y_labels):\n",
    "    TP = 0 # True positive\n",
    "    TN = 0 # True negative\n",
    "    F = 0 # Incorrect - false\n",
    "    accuracies = []\n",
    "    \n",
    "    for data_idx in range(len(y_preds)):\n",
    "        if len(y_preds[data_idx]) == len(y_labels[data_idx]) == 0:\n",
    "            # if both lists are empty. 0 labels and 0 predictions.\n",
    "            TN += 1\n",
    "            accuracies.append(1)\n",
    "            \n",
    "        elif len(y_preds[data_idx]) != len(y_labels[data_idx]):\n",
    "            # if the lists are not same lenght. Not same number of predictions as number of labels\n",
    "            F += 1\n",
    "            accuracies.append(0)\n",
    "        else:\n",
    "            # check if predictions are correct.\n",
    "            total_correct = 0\n",
    "            for chn in range(len(y_preds[data_idx])):\n",
    "                if y_preds[data_idx][chn] in y_labels[data_idx]:\n",
    "                    total_correct += 1\n",
    "            if total_correct == len(y_labels[data_idx]):\n",
    "                TP += 1\n",
    "                accuracies.append(1)\n",
    "            else:\n",
    "                F += 1\n",
    "                accuracies.append(0)\n",
    "    return (TP + TN) / (TP + TN + F), accuracies, {'TP':TP, 'TN':TN, 'F':F}"
   ]
  },
  {
   "cell_type": "code",
   "execution_count": 10,
   "id": "c058e7d3-5e04-441f-8e45-4592d6a8d579",
   "metadata": {},
   "outputs": [],
   "source": [
    "def broken_electrode_accuracy(y_preds, y_labels):\n",
    "    TP = 0 #true_positive\n",
    "    FP = 0 #false_positive\n",
    "    TN = 0 #true_negative no broken channels predicted and none labelled.\n",
    "    FN = 0 #false_negative\n",
    "    accuracies = []\n",
    "    \n",
    "    for data_idx in range(len(y_preds)):\n",
    "        # Running through each data point\n",
    "        \n",
    "        interval_accuracy = []\n",
    "        for pred_chn in range(len(y_preds[data_idx])):\n",
    "            # Go through each channel prediction\n",
    "            \n",
    "            if y_preds[data_idx][pred_chn] in y_labels[data_idx]:\n",
    "                # Correctly predicts a broken channel.\n",
    "                TP += 1\n",
    "                interval_accuracy.append('TP')\n",
    "            else:\n",
    "                # Predict a broken channel, that was not broken.\n",
    "                FP += 1\n",
    "                interval_accuracy.append('FP')\n",
    "        \n",
    "        for label_chn in range(len(y_labels[data_idx])):\n",
    "            if y_labels[data_idx][label_chn] not in y_preds[data_idx]:\n",
    "                # Failed to predict a broken channel.\n",
    "                FN += 1\n",
    "                interval_accuracy.append('FN')\n",
    "        \n",
    "        if len(y_labels[data_idx]) == 0 and len(y_preds[data_idx]) == 0:\n",
    "            # Predict no broken and no broken is correct.\n",
    "            TN += 1\n",
    "            interval_accuracy.append('TN')\n",
    "        accuracies.append(interval_accuracy)\n",
    "    return (TP + TN) / (TP + FP + FN + TN), accuracies, {'TP':TP, 'TN':TN, 'FP':FP, 'FN':FN}"
   ]
  },
  {
   "cell_type": "code",
   "execution_count": 11,
   "id": "2adeff72-175d-41a6-aac2-e002d0a2eb9c",
   "metadata": {},
   "outputs": [],
   "source": [
    "def both_broken_electrode_accuracy(y_preds, y_labels, binary):\n",
    "    if binary:\n",
    "        acc_score, acc, types = binary_broken_electrode_accuracy(y_preds, y_labels)\n",
    "    else:\n",
    "        acc_score, acc, types = broken_electrode_accuracy(y_preds, y_labels)\n",
    "    return acc_score, acc, types"
   ]
  },
  {
   "cell_type": "markdown",
   "id": "2806c690-52a5-43f4-94fd-787572f4dfd7",
   "metadata": {},
   "source": [
    "## Result of the best combination on simulated test set."
   ]
  },
  {
   "cell_type": "code",
   "execution_count": 12,
   "id": "60cae02c-e986-43da-9e92-7fb5eb46c003",
   "metadata": {
    "scrolled": true,
    "tags": []
   },
   "outputs": [],
   "source": [
    "#sim_break_test_prediction = optimise_set(sim_break_test_data, True, ['M_max', 'mm', 1.5, 2]) # calculation prediction of the best combination"
   ]
  },
  {
   "cell_type": "code",
   "execution_count": 13,
   "id": "72f640ff-a545-4e23-aeda-daae33b29419",
   "metadata": {},
   "outputs": [],
   "source": [
    "sim_break_test_prediction = [['EEG_manual_100-25cha_0noise_1000', 10, 'M_max', 'mm', 1.5, 2, [[], [], ['F4'], [], [], ['ERA']], []], ['EEG_manual_100-25cha_1noise_1000', 10, 'M_max', 'mm', 1.5, 2, [['ELA'], ['ELA'], ['ELA'], ['ELA'], ['ELA'], ['ELA']], ['ELA']], ['EEG_manual_100-25cha_2noise_1000', 10, 'M_max', 'mm', 1.5, 2, [['ELA', 'ELB'], ['ELA', 'ELB'], ['ELA', 'ELB'], ['ELA', 'ELB'], ['ELA', 'ELB'], ['ELA', 'ELB']], ['ELA', 'ELB']], ['EEG_manual_100-25cha_3noise_1000', 10, 'M_max', 'mm', 1.5, 2, [['ELA', 'ELB', 'ELC'], ['ELA', 'ELB', 'ELC'], ['ELA', 'ELB', 'ELC'], ['ELA', 'ELB', 'ELC'], ['ELA', 'ELB', 'ELC'], ['ELA', 'ELB', 'ELC']], ['ELA', 'ELB', 'ELC']], ['EEG_manual_100-25cha_4noise_1000', 10, 'M_max', 'mm', 1.5, 2, [['ELA', 'ELB', 'ELC', 'ELT'], ['ELA', 'ELB', 'ELC', 'ELT'], ['ELA', 'ELB', 'ELC', 'ELT'], ['ELA', 'ELB', 'ELC', 'ELT'], ['ELA', 'ELB', 'ELC', 'ELT'], ['ELA', 'ELB', 'ELC', 'ELT']], ['ELA', 'ELB', 'ELC', 'ELT']], ['EEG_manual_100-25cha_5noise_1000', 10, 'M_max', 'mm', 1.5, 2, [['ELA', 'ELB', 'ELC', 'ELT', 'ELE'], ['ELA', 'ELB', 'ELC', 'ELT', 'ELE'], ['ELA', 'ELB', 'ELC', 'ELT', 'ELE'], ['ELA', 'ELB', 'ELC', 'ELT', 'ELE'], ['ELA', 'ELB', 'ELC', 'ELT', 'ELE'], ['ELA', 'ELB', 'ELC', 'ELT', 'ELE']], ['ELA', 'ELB', 'ELC', 'ELT', 'ELE']], ['EEG_manual_100-25cha_6noise_1000', 10, 'M_max', 'mm', 1.5, 2, [['ELA', 'ELB', 'ELC', 'ELT', 'ELE', 'ELI'], ['ELA', 'ELB', 'ELC', 'ELT', 'ELE', 'ELI'], ['ELA', 'ELB', 'ELC', 'ELT', 'ELE', 'ELI'], ['ELA', 'ELB', 'ELC', 'ELT', 'ELE', 'ELI'], ['ELA', 'ELB', 'ELC', 'ELT', 'ELE', 'ELI'], ['ELA', 'ELB', 'ELC', 'ELT', 'ELE', 'ELI']], ['ELA', 'ELB', 'ELC', 'ELT', 'ELE', 'ELI']], ['EEG_manual_100-25cha_7noise_1000', 10, 'M_max', 'mm', 1.5, 2, [['ELA', 'ELB', 'ELC', 'ELT', 'ELE', 'ELI', 'ERA'], ['ELA', 'ELB', 'ELC', 'ELT', 'ELE', 'ELI', 'ERA'], ['ELA', 'ELB', 'ELC', 'ELT', 'ELE', 'ELI', 'ERA'], ['ELA', 'ELB', 'ELC', 'ELT', 'ELE', 'ELI', 'ERA'], ['ELA', 'ELB', 'ELC', 'ELT', 'ELE', 'ELI', 'ERA'], ['ELA', 'ELB', 'ELC', 'ELT', 'ELE', 'ELI', 'ERA']], ['ELA', 'ELB', 'ELC', 'ELT', 'ELE', 'ELI', 'ERA']], ['EEG_manual_100-25cha_8noise_1000', 10, 'M_max', 'mm', 1.5, 2, [['ELA', 'ELB', 'ELC', 'ELT', 'ELE', 'ELI', 'ERA', 'ERB'], ['ELA', 'ELB', 'ELC', 'ELT', 'ELE', 'ELI', 'ERA', 'ERB'], ['ELA', 'ELB', 'ELC', 'ELT', 'ELE', 'ELI', 'ERA', 'ERB'], ['ELA', 'ELB', 'ELC', 'ELT', 'ELE', 'ELI', 'ERA', 'ERB'], ['ELA', 'ELB', 'ELC', 'ELT', 'ELE', 'ELI', 'ERA', 'ERB'], ['ELA', 'ELB', 'ELC', 'ELT', 'ELE', 'ELI', 'ERA', 'ERB']], ['ELA', 'ELB', 'ELC', 'ELT', 'ELE', 'ELI', 'ERA', 'ERB']], ['EEG_manual_100-25cha_9noise_1000', 10, 'M_max', 'mm', 1.5, 2, [['ELA', 'ELB', 'ELC', 'ELT', 'ELE', 'ELI', 'ERA', 'ERB', 'ERC'], ['ELA', 'ELB', 'ELC', 'ELT', 'ELE', 'ELI', 'ERA', 'ERB', 'ERC'], ['ELA', 'ELB', 'ELC', 'ELT', 'ELE', 'ELI', 'ERA', 'ERB', 'ERC'], ['ELA', 'ELB', 'ELC', 'ELT', 'ELE', 'ELI', 'ERA', 'ERB', 'ERC'], ['ELA', 'ELB', 'ELC', 'ELT', 'ELE', 'ELI', 'ERA', 'ERB', 'ERC'], ['ELA', 'ELB', 'ELC', 'ELT', 'ELE', 'ELI', 'ERA', 'ERB', 'ERC']], ['ELA', 'ELB', 'ELC', 'ELT', 'ELE', 'ELI', 'ERA', 'ERB', 'ERC']], ['EEG_manual_100-25cha_10noise_1000', 10, 'M_max', 'mm', 1.5, 2, [['ELA', 'ELB', 'ELC', 'ELT', 'ELE', 'ELI', 'ERA', 'ERB', 'ERC', 'ERT'], ['ELA', 'ELB', 'ELC', 'ELT', 'ELE', 'ELI', 'ERA', 'ERB', 'ERC', 'ERT'], ['ELA', 'ELB', 'ELC', 'ELT', 'ELE', 'ELI', 'ERA', 'ERB', 'ERC', 'ERT'], ['ELA', 'ELB', 'ELC', 'ELT', 'ELE', 'ELI', 'ERA', 'ERB', 'ERC', 'ERT'], ['ELA', 'ELB', 'ELC', 'ELT', 'ELE', 'ELI', 'ERA', 'ERB', 'ERC', 'ERT'], ['ELA', 'ELB', 'ELC', 'ELT', 'ELE', 'ELI', 'ERA', 'ERB', 'ERC', 'ERT']], ['ELA', 'ELB', 'ELC', 'ELT', 'ELE', 'ELI', 'ERA', 'ERB', 'ERC', 'ERT']], ['EEG_manual_100-25cha_11noise_1000', 10, 'M_max', 'mm', 1.5, 2, [['ELA', 'ELB', 'ELC', 'ELT', 'ELE', 'ELI', 'ERA', 'ERB', 'ERC', 'ERT', 'ERE'], ['ELA', 'ELB', 'ELC', 'ELT', 'ELE', 'ELI', 'ERA', 'ERB', 'ERC', 'ERT', 'ERE'], ['ELA', 'ELB', 'ELC', 'ELT', 'ELE', 'ELI', 'ERA', 'ERB', 'ERC', 'ERT', 'ERE'], ['ELA', 'ELB', 'ELC', 'ELT', 'ELE', 'ELI', 'ERA', 'ERB', 'ERC', 'ERT', 'ERE'], ['ELA', 'ELB', 'ELC', 'ELT', 'ELE', 'ELI', 'ERA', 'ERB', 'ERC', 'ERT', 'ERE'], ['ELA', 'ELB', 'ELC', 'ELT', 'ELE', 'ELI', 'ERA', 'ERB', 'ERC', 'ERT', 'ERE']], ['ELA', 'ELB', 'ELC', 'ELT', 'ELE', 'ELI', 'ERA', 'ERB', 'ERC', 'ERT', 'ERE']], ['EEG_manual_100-25cha_12noise_1000', 10, 'M_max', 'mm', 1.5, 2, [['ELA', 'ELB', 'ELC', 'ELT', 'ELE', 'ELI', 'ERA', 'ERB', 'ERC', 'ERT', 'ERI'], ['ELA', 'ELB', 'ELC', 'ELT', 'ELE', 'ELI', 'ERA', 'ERB', 'ERC', 'ERT', 'ERE', 'ERI'], ['ELA', 'ELB', 'ELC', 'ELT', 'ELE', 'ELI', 'ERB', 'ERC', 'ERT', 'ERE', 'ERI'], ['ELA', 'ELB', 'ELC', 'ELT', 'ELE', 'ELI', 'ERA', 'ERB', 'ERC', 'ERT', 'ERE', 'ERI'], ['ELA', 'ELB', 'ELC', 'ELT', 'ELE', 'ELI', 'ERA', 'ERB', 'ERC', 'ERT', 'ERE', 'ERI'], ['ELA', 'ELB', 'ELC', 'ELT', 'ELE', 'ELI', 'ERA', 'ERB', 'ERC', 'ERT', 'ERE', 'ERI']], ['ELA', 'ELB', 'ELC', 'ELT', 'ELE', 'ELI', 'ERA', 'ERB', 'ERC', 'ERT', 'ERI', 'ERE']], ['EEG_manual_100-25cha_13noise_1000', 10, 'M_max', 'mm', 1.5, 2, [['ELA', 'ELB', 'ELC', 'ELT', 'ELE', 'ELI', 'ERA', 'ERB', 'ERC', 'ERT', 'ERE', 'ERI', 'EOGr'], ['ELA', 'ELB', 'ELC', 'ELT', 'ELE', 'ELI', 'ERA', 'ERB', 'ERC', 'ERT', 'ERE', 'ERI', 'EOGr'], ['ELA', 'ELB', 'ELC', 'ELT', 'ELE', 'ELI', 'ERA', 'ERB', 'ERC', 'ERT', 'ERE', 'ERI', 'EOGr'], ['ELA', 'ELB', 'ELC', 'ELT', 'ELE', 'ELI', 'ERA', 'ERB', 'ERT', 'ERE', 'ERI', 'EOGr'], ['ELA', 'ELB', 'ELC', 'ELT', 'ELI', 'ERA', 'ERB', 'ERC', 'ERT', 'ERI', 'EOGr'], ['ELA', 'ELB', 'ELC', 'ELT', 'ELE', 'ERA', 'ERB', 'ERC', 'ERT', 'ERE', 'ERI', 'EOGr']], ['ELA', 'ELB', 'ELC', 'ELT', 'ELE', 'ELI', 'ERA', 'ERB', 'ERC', 'ERT', 'ERE', 'ERI', 'EOGr']], ['EEG_manual_100-25cha_14noise_1000', 10, 'M_max', 'mm', 1.5, 2, [['ELA', 'ELB', 'ELC', 'ELT', 'ELE', 'ELI', 'ERA', 'ERB', 'ERC', 'ERT', 'ERE', 'ERI', 'EOGr', 'EOGl'], ['ELA', 'ELB', 'ELC', 'ELT', 'ELI', 'ERA', 'ERB', 'ERC', 'ERT', 'ERE', 'ERI', 'EOGr', 'EOGl'], ['ELA', 'ELB', 'ELC', 'ELT', 'ELE', 'ELI', 'ERA', 'ERT', 'ERE', 'ERI', 'EOGr', 'EOGl'], ['ELA', 'ELC', 'ELT', 'ELE', 'ELI', 'ERA', 'ERB', 'ERC', 'ERT', 'ERE', 'ERI', 'EOGr'], ['ELA', 'ELB', 'ELC', 'ELT', 'ELI', 'ERB', 'ERC', 'ERT', 'ERE', 'ERI', 'EOGr', 'EOGl'], ['ELA', 'ELB', 'ELC', 'ELE', 'ELI', 'ERA', 'ERB', 'ERC', 'ERT', 'ERE', 'ERI', 'EOGr', 'EOGl']], ['ELA', 'ELB', 'ELC', 'ELT', 'ELE', 'ELI', 'ERA', 'ERB', 'ERC', 'ERT', 'ERE', 'ERI', 'EOGr', 'EOGl']], ['EEG_manual_100-25cha_15noise_1000', 10, 'M_max', 'mm', 1.5, 2, [['ELA', 'ELB', 'ELC', 'ELT', 'ELE', 'ELI', 'ERB', 'ERC', 'ERT', 'ERE', 'EOGl', 'EMGl'], ['ELA', 'ELB', 'ELC', 'ELT', 'ELE', 'ELI', 'ERA', 'ERB', 'ERC', 'ERT', 'ERE', 'ERI', 'EOGr', 'EOGl', 'EMGl'], ['ELA', 'ELC', 'ELI', 'ERA', 'ERB', 'ERC', 'ERT', 'ERI', 'EOGr', 'EMGl'], ['ELA', 'ELB', 'ELC', 'ELT', 'ELE', 'ELI', 'ERC', 'ERT', 'ERE', 'ERI', 'EOGr', 'EOGl'], ['ELB', 'ELC', 'ELT', 'ELE', 'ERA', 'ERB', 'ERC', 'ERE', 'ERI', 'EOGr', 'EMGl'], ['ELA', 'ELC', 'ELT', 'ELE', 'ELI', 'ERA', 'ERB', 'ERC', 'ERT', 'ERI', 'EOGl', 'EMGl']], ['ELA', 'ELB', 'ELC', 'ELT', 'ELE', 'ELI', 'ERB', 'ERC', 'ERT', 'ERE', 'EOGl', 'EMGl', 'ERA', 'ERI', 'EOGr']]]"
   ]
  },
  {
   "cell_type": "code",
   "execution_count": 14,
   "id": "332ffa56-4a40-4340-8a12-b9bad04ce22b",
   "metadata": {},
   "outputs": [
    {
     "name": "stdout",
     "output_type": "stream",
     "text": [
      "(1.0, {'TP': 15, 'TN': 1, 'F': 0})\n",
      "(1.0, {'TP': 120, 'TN': 1, 'FP': 0, 'FN': 0})\n"
     ]
    }
   ],
   "source": [
    "def test_accuracies(outputs, data, binary):        \n",
    "    y_pre_each_combination = [outputs[i][7] for i in range(0, len(outputs))]\n",
    "    y_lab_each_combination = [data[j][3] for j in range(0, len(data))]\n",
    "    acc_score, acc, types = both_broken_electrode_accuracy(y_pre_each_combination, y_lab_each_combination, binary)\n",
    "    return acc_score, types\n",
    "print(test_accuracies(sim_break_test_prediction, sim_break_test_data, binary=True))\n",
    "print(test_accuracies(sim_break_test_prediction, sim_break_test_data, binary=False))"
   ]
  },
  {
   "cell_type": "code",
   "execution_count": 15,
   "id": "81f68b0c-1328-41bd-bef7-0e4ef1ddd50f",
   "metadata": {},
   "outputs": [
    {
     "name": "stdout",
     "output_type": "stream",
     "text": [
      "[]\n",
      "[]\n",
      "['ELA']\n",
      "['ELA']\n",
      "['ELA', 'ELB']\n",
      "['ELA', 'ELB']\n",
      "['ELA', 'ELB', 'ELC']\n",
      "['ELA', 'ELB', 'ELC']\n",
      "['ELA', 'ELB', 'ELC', 'ELT']\n",
      "['ELA', 'ELB', 'ELC', 'ELT']\n",
      "['ELA', 'ELB', 'ELC', 'ELT', 'ELE']\n",
      "['ELA', 'ELB', 'ELC', 'ELT', 'ELE']\n",
      "['ELA', 'ELB', 'ELC', 'ELT', 'ELE', 'ELI']\n",
      "['ELA', 'ELB', 'ELC', 'ELT', 'ELE', 'ELI']\n",
      "['ELA', 'ELB', 'ELC', 'ELT', 'ELE', 'ELI', 'ERA']\n",
      "['ELA', 'ELB', 'ELC', 'ELT', 'ELE', 'ELI', 'ERA']\n",
      "['ELA', 'ELB', 'ELC', 'ELT', 'ELE', 'ELI', 'ERA', 'ERB']\n",
      "['ELA', 'ELB', 'ELC', 'ELT', 'ELE', 'ELI', 'ERA', 'ERB']\n",
      "['ELA', 'ELB', 'ELC', 'ELT', 'ELE', 'ELI', 'ERA', 'ERB', 'ERC']\n",
      "['ELA', 'ELB', 'ELC', 'ELT', 'ELE', 'ELI', 'ERA', 'ERB', 'ERC']\n",
      "['ELA', 'ELB', 'ELC', 'ELT', 'ELE', 'ELI', 'ERA', 'ERB', 'ERC', 'ERT']\n",
      "['ELA', 'ELB', 'ELC', 'ELT', 'ELE', 'ELI', 'ERA', 'ERB', 'ERC', 'ERT']\n",
      "['ELA', 'ELB', 'ELC', 'ELT', 'ELE', 'ELI', 'ERA', 'ERB', 'ERC', 'ERT', 'ERE']\n",
      "['ELA', 'ELB', 'ELC', 'ELT', 'ELE', 'ELI', 'ERA', 'ERB', 'ERC', 'ERT', 'ERE']\n",
      "['ELA', 'ELB', 'ELC', 'ELT', 'ELE', 'ELI', 'ERA', 'ERB', 'ERC', 'ERT', 'ERI', 'ERE']\n",
      "['ELA', 'ELB', 'ELC', 'ELT', 'ELE', 'ELI', 'ERA', 'ERB', 'ERC', 'ERT', 'ERE', 'ERI']\n",
      "['ELA', 'ELB', 'ELC', 'ELT', 'ELE', 'ELI', 'ERA', 'ERB', 'ERC', 'ERT', 'ERE', 'ERI', 'EOGr']\n",
      "['ELA', 'ELB', 'ELC', 'ELT', 'ELE', 'ELI', 'ERA', 'ERB', 'ERC', 'ERT', 'ERE', 'ERI', 'EOGr']\n",
      "['ELA', 'ELB', 'ELC', 'ELT', 'ELE', 'ELI', 'ERA', 'ERB', 'ERC', 'ERT', 'ERE', 'ERI', 'EOGr', 'EOGl']\n",
      "['ELA', 'ELB', 'ELC', 'ELT', 'ELE', 'ELI', 'ERA', 'ERB', 'ERC', 'ERT', 'ERE', 'ERI', 'EOGr', 'EOGl']\n",
      "['ELA', 'ELB', 'ELC', 'ELT', 'ELE', 'ELI', 'ERB', 'ERC', 'ERT', 'ERE', 'EOGl', 'EMGl', 'ERA', 'ERI', 'EOGr']\n",
      "['ELA', 'ELB', 'ELC', 'ELT', 'ELE', 'ELI', 'ERA', 'ERB', 'ERC', 'ERT', 'ERE', 'ERI', 'EOGr', 'EOGl', 'EMGl']\n"
     ]
    }
   ],
   "source": [
    "for i in range(16):\n",
    "    print(sim_break_test_prediction[i][7])\n",
    "    print(sim_break_test_data[i][3])"
   ]
  },
  {
   "cell_type": "code",
   "execution_count": null,
   "id": "670ada4d-d61e-4958-b08a-53fdec97f833",
   "metadata": {},
   "outputs": [],
   "source": []
  }
 ],
 "metadata": {
  "kernelspec": {
   "display_name": "Python 3 (ipykernel)",
   "language": "python",
   "name": "python3"
  },
  "language_info": {
   "codemirror_mode": {
    "name": "ipython",
    "version": 3
   },
   "file_extension": ".py",
   "mimetype": "text/x-python",
   "name": "python",
   "nbconvert_exporter": "python",
   "pygments_lexer": "ipython3",
   "version": "3.9.16"
  }
 },
 "nbformat": 4,
 "nbformat_minor": 5
}
